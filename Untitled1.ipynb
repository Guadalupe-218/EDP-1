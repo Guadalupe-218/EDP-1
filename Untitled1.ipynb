{
  "nbformat": 4,
  "nbformat_minor": 0,
  "metadata": {
    "colab": {
      "provenance": [],
      "authorship_tag": "ABX9TyORsz1zxJFGBVOXdxqr1UqU",
      "include_colab_link": true
    },
    "kernelspec": {
      "name": "python3",
      "display_name": "Python 3"
    },
    "language_info": {
      "name": "python"
    }
  },
  "cells": [
    {
      "cell_type": "markdown",
      "metadata": {
        "id": "view-in-github",
        "colab_type": "text"
      },
      "source": [
        "<a href=\"https://colab.research.google.com/github/Guadalupe-218/EDP-1/blob/main/Untitled1.ipynb\" target=\"_parent\"><img src=\"https://colab.research.google.com/assets/colab-badge.svg\" alt=\"Open In Colab\"/></a>"
      ]
    },
    {
      "cell_type": "code",
      "execution_count": null,
      "metadata": {
        "id": "_3a-bCTDn-c9"
      },
      "outputs": [],
      "source": []
    },
    {
      "cell_type": "code",
      "source": [
        "import numpy as np\n",
        "import matplotlib.pyplot as plt\n",
        "#definir el rango de x\n",
        "x=np.linspace(-10,10,400)\n",
        "y=x**2\n",
        "plt.figure(figsize=(8,6))\n",
        "plt.plot(x,y,label='y=x')"
      ],
      "metadata": {
        "id": "hcKBcZ0QoAXf"
      },
      "execution_count": null,
      "outputs": []
    }
  ]
}