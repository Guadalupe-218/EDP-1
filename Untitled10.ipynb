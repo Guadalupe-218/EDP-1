{
  "nbformat": 4,
  "nbformat_minor": 0,
  "metadata": {
    "colab": {
      "provenance": [],
      "authorship_tag": "ABX9TyOPxnBwh8R0iyqFoK3i+TQC",
      "include_colab_link": true
    },
    "kernelspec": {
      "name": "python3",
      "display_name": "Python 3"
    },
    "language_info": {
      "name": "python"
    }
  },
  "cells": [
    {
      "cell_type": "markdown",
      "metadata": {
        "id": "view-in-github",
        "colab_type": "text"
      },
      "source": [
        "<a href=\"https://colab.research.google.com/github/Guadalupe-218/EDP-1/blob/main/Untitled10.ipynb\" target=\"_parent\"><img src=\"https://colab.research.google.com/assets/colab-badge.svg\" alt=\"Open In Colab\"/></a>"
      ]
    },
    {
      "cell_type": "code",
      "execution_count": 3,
      "metadata": {
        "colab": {
          "base_uri": "https://localhost:8080/"
        },
        "id": "s33NTUqIhoKi",
        "outputId": "bb90fef3-0c23-4cc8-9692-883dd49cefcd"
      },
      "outputs": [
        {
          "output_type": "stream",
          "name": "stdout",
          "text": [
            "Discriminante: 49\n",
            "Tipo de EDP: Hiperbólica\n"
          ]
        }
      ],
      "source": [
        "# Definir coeficientes de la ecuación diferencial\n",
        "A = 1\n",
        "B = -3\n",
        "C = -10\n",
        "\n",
        "# Calcular el discriminante\n",
        "D = B**2 - 4*A*C\n",
        "\n",
        "# Determinar el tipo de ecuación\n",
        "if D > 0:\n",
        "    tipo = \"Hiperbólica\"\n",
        "elif D == 0:\n",
        "    tipo = \"Parabólica\"\n",
        "else:\n",
        "    tipo = \"Elíptica\"\n",
        "\n",
        "# Imprimir resultados\n",
        "print(f\"Discriminante: {D}\")\n",
        "print(f\"Tipo de EDP: {tipo}\")"
      ]
    },
    {
      "cell_type": "code",
      "source": [
        "import sympy as sp\n",
        "\n",
        "# Definir las variables originales\n",
        "x, y = sp.symbols('x y')\n",
        "\n",
        "# Coeficientes de la ecuación diferencial\n",
        "A = 1\n",
        "B = -3\n",
        "C = -10\n",
        "\n",
        "# Calcular el discriminante\n",
        "D = B**2 - 4*A*C\n",
        "\n",
        "# Determinar el tipo de ecuación\n",
        "tipo_EDP = \"Hiperbólica\" if D > 0 else \"Parabólica\" if D == 0 else \"Elíptica\"\n",
        "\n",
        "# Definir las nuevas coordenadas como símbolos\n",
        "xi, eta = sp.symbols('xi eta')\n",
        "\n",
        "# Definir la transformación de coordenadas\n",
        "xi_expr = x + (3 + sp.sqrt(14))/2 * y\n",
        "eta_expr = x + (3 - sp.sqrt(14))/2 * y\n",
        "\n",
        "# Expresión de U en términos de ξ y η\n",
        "U = sp.Function('U')(xi, eta)\n",
        "\n",
        "# Ecuación en la nueva forma canónica\n",
        "EDP_canonica = sp.Eq(sp.diff(U, xi, eta), 0)\n",
        "\n",
        "# Mostrar resultados\n",
        "print(f\"Discriminante: {D}\")\n",
        "print(f\"Tipo de EDP: {tipo_EDP}\")\n",
        "print(f\"Transformación de coordenadas: ξ = {xi_expr}, η = {eta_expr}\")\n",
        "print(\"Forma canónica de la ecuación:\")\n",
        "sp.pprint(EDP_canonica)"
      ],
      "metadata": {
        "colab": {
          "base_uri": "https://localhost:8080/"
        },
        "id": "6Y3ASVeximzQ",
        "outputId": "1884bb7e-7d00-4527-ed10-40c7f911ed51"
      },
      "execution_count": 5,
      "outputs": [
        {
          "output_type": "stream",
          "name": "stdout",
          "text": [
            "Discriminante: 49\n",
            "Tipo de EDP: Hiperbólica\n",
            "Transformación de coordenadas: ξ = x + y*(3/2 + sqrt(14)/2), η = x + y*(3/2 - sqrt(14)/2)\n",
            "Forma canónica de la ecuación:\n",
            "  2               \n",
            " ∂                \n",
            "─────(U(ξ, η)) = 0\n",
            "∂ξ ∂η             \n"
          ]
        }
      ]
    }
  ]
}